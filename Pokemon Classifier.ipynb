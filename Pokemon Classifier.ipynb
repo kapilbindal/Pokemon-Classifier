{
 "cells": [
  {
   "cell_type": "code",
   "execution_count": 42,
   "metadata": {},
   "outputs": [],
   "source": [
    "import os\n",
    "from keras.preprocessing import image\n",
    "import matplotlib.pyplot as plt\n",
    "import numpy as np\n",
    "from pathlib import Path\n",
    "from sklearn.utils import shuffle\n",
    "from sklearn.metrics import confusion_matrix\n",
    "from sklearn.metrics import classification_report\n",
    "from keras.utils import to_categorical\n",
    "from keras.layers import *\n",
    "from keras.models import Sequential\n",
    "from keras.callbacks import EarlyStopping\n",
    "from keras.callbacks import ModelCheckpoint"
   ]
  },
  {
   "cell_type": "markdown",
   "metadata": {},
   "source": [
    "### Data Preparation"
   ]
  },
  {
   "cell_type": "code",
   "execution_count": 91,
   "metadata": {},
   "outputs": [
    {
     "name": "stdout",
     "output_type": "stream",
     "text": [
      "Abra\n",
      "41\n",
      "Aerodactyl\n",
      "97\n",
      "Alakazam\n",
      "48\n",
      "Arbok\n",
      "63\n",
      "Arcanine\n",
      "61\n",
      "Articuno\n",
      "56\n",
      "Beedrill\n",
      "53\n",
      "Bellsprout\n",
      "55\n",
      "Blastoise\n",
      "61\n",
      "Bulbasaur\n",
      "176\n",
      "Butterfree\n",
      "66\n",
      "Caterpie\n",
      "49\n",
      "Chansey\n",
      "57\n",
      "Charizard\n",
      "52\n",
      "Charmander\n",
      "200\n",
      "Charmeleon\n",
      "65\n",
      "Clefable\n",
      "49\n",
      "Clefairy\n",
      "59\n",
      "Cloyster\n",
      "59\n",
      "Cubone\n",
      "58\n",
      "Dewgong\n",
      "66\n",
      "Diglett\n",
      "51\n",
      "Ditto\n",
      "48\n",
      "Dodrio\n",
      "65\n",
      "Doduo\n",
      "48\n",
      "Dragonair\n",
      "65\n",
      "Dragonite\n",
      "62\n",
      "Dratini\n",
      "107\n",
      "Drowzee\n",
      "60\n",
      "Dugtrio\n",
      "64\n",
      "Eevee\n",
      "41\n",
      "Ekans\n",
      "51\n",
      "Electabuzz\n",
      "53\n",
      "Electrode\n",
      "67\n",
      "Exeggcute\n",
      "57\n",
      "Exeggutor\n",
      "67\n",
      "Farfetchd\n",
      "64\n",
      "Fearow\n",
      "122\n",
      "Flareon\n",
      "59\n",
      "Gastly\n",
      "50\n",
      "Gengar\n",
      "60\n",
      "Geodude\n",
      "56\n",
      "Gloom\n",
      "58\n",
      "Golbat\n",
      "67\n",
      "Goldeen\n",
      "58\n",
      "Golduck\n",
      "60\n",
      "Golem\n",
      "64\n",
      "Graveler\n",
      "57\n",
      "Grimer\n",
      "64\n",
      "Growlithe\n",
      "68\n",
      "Gyarados\n",
      "67\n",
      "Haunter\n",
      "63\n",
      "Hitmonchan\n",
      "61\n",
      "Hitmonlee\n",
      "65\n",
      "Horsea\n",
      "63\n",
      "Hypno\n",
      "62\n",
      "Ivysaur\n",
      "53\n",
      "Jigglypuff\n",
      "64\n",
      "Jolteon\n",
      "64\n",
      "Jynx\n",
      "58\n",
      "Kabuto\n",
      "56\n",
      "Kabutops\n",
      "65\n",
      "Kadabra\n",
      "60\n",
      "Kakuna\n",
      "67\n",
      "Kangaskhan\n",
      "62\n",
      "Kingler\n",
      "68\n",
      "Koffing\n",
      "65\n",
      "Krabby\n",
      "64\n",
      "Lapras\n",
      "71\n",
      "Lickitung\n",
      "67\n",
      "Machamp\n",
      "71\n",
      "Machoke\n",
      "51\n",
      "Machop\n",
      "53\n",
      "Magikarp\n",
      "59\n",
      "Magmar\n",
      "59\n",
      "Magnemite\n",
      "60\n",
      "Magneton\n",
      "58\n",
      "Mankey\n",
      "71\n",
      "Marowak\n",
      "70\n",
      "Meowth\n",
      "70\n",
      "Metapod\n",
      "65\n",
      "Mew\n",
      "67\n",
      "Mewtwo\n",
      "192\n",
      "Moltres\n",
      "62\n",
      "MrMime\n",
      "58\n",
      "Muk\n",
      "70\n",
      "Nidoking\n",
      "68\n",
      "Nidoqueen\n",
      "65\n",
      "Nidoran♀\n",
      "0\n",
      "Nidoran♂\n",
      "0\n",
      "Nidorina\n",
      "58\n",
      "Nidorino\n",
      "63\n",
      "Ninetales\n",
      "73\n",
      "Oddish\n",
      "66\n",
      "Omanyte\n",
      "55\n",
      "Omastar\n",
      "56\n",
      "Onix\n",
      "64\n",
      "Paras\n",
      "55\n",
      "Parasect\n",
      "52\n",
      "Persian\n",
      "57\n",
      "Pidgeot\n",
      "66\n",
      "Pidgeotto\n",
      "63\n",
      "Pidgey\n",
      "74\n",
      "Pikachu\n",
      "199\n",
      "Pinsir\n",
      "63\n",
      "Poliwag\n",
      "62\n",
      "Poliwhirl\n",
      "63\n",
      "Poliwrath\n",
      "63\n",
      "Ponyta\n",
      "66\n",
      "Porygon\n",
      "55\n",
      "Primeape\n",
      "69\n",
      "Psyduck\n",
      "158\n",
      "Raichu\n",
      "71\n",
      "Rapidash\n",
      "83\n",
      "Raticate\n",
      "70\n",
      "Rattata\n",
      "67\n",
      "Rhydon\n",
      "59\n",
      "Rhyhorn\n",
      "69\n",
      "Sandshrew\n",
      "66\n",
      "Sandslash\n",
      "71\n",
      "Scyther\n",
      "66\n",
      "Seadra\n",
      "67\n",
      "Seaking\n",
      "65\n",
      "Seel\n",
      "61\n",
      "Shellder\n",
      "81\n",
      "Slowbro\n",
      "63\n",
      "Slowpoke\n",
      "60\n",
      "Snorlax\n",
      "69\n",
      "Spearow\n",
      "130\n",
      "Squirtle\n",
      "186\n",
      "Starmie\n",
      "59\n",
      "Staryu\n",
      "60\n",
      "Tangela\n",
      "63\n",
      "Tauros\n",
      "67\n",
      "Tentacool\n",
      "57\n",
      "Tentacruel\n",
      "56\n",
      "Vaporeon\n",
      "68\n",
      "Venomoth\n",
      "65\n",
      "Venonat\n",
      "56\n",
      "Venusaur\n",
      "66\n",
      "Victreebel\n",
      "55\n",
      "Vileplume\n",
      "67\n",
      "Voltorb\n",
      "64\n",
      "Vulpix\n",
      "67\n",
      "Wartortle\n",
      "61\n",
      "Weedle\n",
      "59\n",
      "Weepinbell\n",
      "51\n",
      "Weezing\n",
      "63\n",
      "Wigglytuff\n",
      "66\n",
      "Zapdos\n",
      "59\n",
      "Zubat\n",
      "49\n",
      "{'Abra': 0, 'Aerodactyl': 1, 'Alakazam': 2, 'Arbok': 3, 'Arcanine': 4, 'Articuno': 5, 'Beedrill': 6, 'Bellsprout': 7, 'Blastoise': 8, 'Bulbasaur': 9, 'Butterfree': 10, 'Caterpie': 11, 'Chansey': 12, 'Charizard': 13, 'Charmander': 14, 'Charmeleon': 15, 'Clefable': 16, 'Clefairy': 17, 'Cloyster': 18, 'Cubone': 19, 'Dewgong': 20, 'Diglett': 21, 'Ditto': 22, 'Dodrio': 23, 'Doduo': 24, 'Dragonair': 25, 'Dragonite': 26, 'Dratini': 27, 'Drowzee': 28, 'Dugtrio': 29, 'Eevee': 30, 'Ekans': 31, 'Electabuzz': 32, 'Electrode': 33, 'Exeggcute': 34, 'Exeggutor': 35, 'Farfetchd': 36, 'Fearow': 37, 'Flareon': 38, 'Gastly': 39, 'Gengar': 40, 'Geodude': 41, 'Gloom': 42, 'Golbat': 43, 'Goldeen': 44, 'Golduck': 45, 'Golem': 46, 'Graveler': 47, 'Grimer': 48, 'Growlithe': 49, 'Gyarados': 50, 'Haunter': 51, 'Hitmonchan': 52, 'Hitmonlee': 53, 'Horsea': 54, 'Hypno': 55, 'Ivysaur': 56, 'Jigglypuff': 57, 'Jolteon': 58, 'Jynx': 59, 'Kabuto': 60, 'Kabutops': 61, 'Kadabra': 62, 'Kakuna': 63, 'Kangaskhan': 64, 'Kingler': 65, 'Koffing': 66, 'Krabby': 67, 'Lapras': 68, 'Lickitung': 69, 'Machamp': 70, 'Machoke': 71, 'Machop': 72, 'Magikarp': 73, 'Magmar': 74, 'Magnemite': 75, 'Magneton': 76, 'Mankey': 77, 'Marowak': 78, 'Meowth': 79, 'Metapod': 80, 'Mew': 81, 'Mewtwo': 82, 'Moltres': 83, 'MrMime': 84, 'Muk': 85, 'Nidoking': 86, 'Nidoqueen': 87, 'Nidoran♀': 88, 'Nidoran♂': 89, 'Nidorina': 90, 'Nidorino': 91, 'Ninetales': 92, 'Oddish': 93, 'Omanyte': 94, 'Omastar': 95, 'Onix': 96, 'Paras': 97, 'Parasect': 98, 'Persian': 99, 'Pidgeot': 100, 'Pidgeotto': 101, 'Pidgey': 102, 'Pikachu': 103, 'Pinsir': 104, 'Poliwag': 105, 'Poliwhirl': 106, 'Poliwrath': 107, 'Ponyta': 108, 'Porygon': 109, 'Primeape': 110, 'Psyduck': 111, 'Raichu': 112, 'Rapidash': 113, 'Raticate': 114, 'Rattata': 115, 'Rhydon': 116, 'Rhyhorn': 117, 'Sandshrew': 118, 'Sandslash': 119, 'Scyther': 120, 'Seadra': 121, 'Seaking': 122, 'Seel': 123, 'Shellder': 124, 'Slowbro': 125, 'Slowpoke': 126, 'Snorlax': 127, 'Spearow': 128, 'Squirtle': 129, 'Starmie': 130, 'Staryu': 131, 'Tangela': 132, 'Tauros': 133, 'Tentacool': 134, 'Tentacruel': 135, 'Vaporeon': 136, 'Venomoth': 137, 'Venonat': 138, 'Venusaur': 139, 'Victreebel': 140, 'Vileplume': 141, 'Voltorb': 142, 'Vulpix': 143, 'Wartortle': 144, 'Weedle': 145, 'Weepinbell': 146, 'Weezing': 147, 'Wigglytuff': 148, 'Zapdos': 149, 'Zubat': 150}\n"
     ]
    }
   ],
   "source": [
    "p = Path(\"Dataset\")\n",
    "dirs = p.glob(\"*\")\n",
    " \n",
    "imagesData = []\n",
    "labels = []\n",
    "\n",
    "labelsDict = {} #{\"Pikachu\":0,\"Bulbasaur\":1,\"Meowth\":2}\n",
    "#label2Pokemon = {0:\"Pikachu\",1:\"Bulbasaur\",2:\"Meowth\"}\n",
    "idx = 0\n",
    "for folders in dirs:\n",
    "    label = str(folders).split(\"\\\\\")[-1]\n",
    "    cnt = 0\n",
    "    print(label)\n",
    "    labelsDict[label] = idx\n",
    "    for imagePath in folders.glob(\"*.jpg\"):\n",
    "        img = image.load_img(imagePath,target_size=(40,40))\n",
    "        imgArr = image.img_to_array(img)\n",
    "        imagesData.append(imgArr)\n",
    "        labels.append(labelsDict[label])\n",
    "        cnt += 1\n",
    "    print(cnt)\n",
    "    idx += 1\n",
    "print(labelsDict)"
   ]
  },
  {
   "cell_type": "code",
   "execution_count": 93,
   "metadata": {},
   "outputs": [
    {
     "name": "stdout",
     "output_type": "stream",
     "text": [
      "(10120, 40, 40, 3) (10120,)\n"
     ]
    }
   ],
   "source": [
    "label2Pokemon = dict([value,key] for (key,value) in labelsDict.items())\n",
    "X = np.array(imagesData)\n",
    "Y = np.array(labels)\n",
    "\n",
    "X,Y = shuffle(X,Y,random_state = 2)\n",
    "X = X/255.0\n",
    "print(X.shape,Y.shape)"
   ]
  },
  {
   "cell_type": "code",
   "execution_count": 112,
   "metadata": {},
   "outputs": [],
   "source": [
    "def drawImg(img,label,i):\n",
    "    plt.subplot(3,3,i+1)\n",
    "    plt.title(label2Pokemon[label])\n",
    "    plt.imshow(img)\n",
    "    plt.axis(\"off\")"
   ]
  },
  {
   "cell_type": "code",
   "execution_count": 113,
   "metadata": {},
   "outputs": [
    {
     "data": {
      "image/png": "[encoded data removed]",
      "text/plain": [
       "<Figure size 432x288 with 9 Axes>"
      ]
     },
     "metadata": {
      "needs_background": "light"
     },
     "output_type": "display_data"
    }
   ],
   "source": [
    "for i in range(9):\n",
    "    r = np.random.randint(400)\n",
    "    drawImg(X[r],Y[r],i)"
   ]
  },
  {
   "cell_type": "markdown",
   "metadata": {},
   "source": [
    "### Spliting Data into Train and Test"
   ]
  },
  {
   "cell_type": "code",
   "execution_count": 114,
   "metadata": {},
   "outputs": [
    {
     "name": "stdout",
     "output_type": "stream",
     "text": [
      "(8096, 40, 40, 3) (8096,)\n",
      "(2024, 40, 40, 3) (2024,)\n"
     ]
    }
   ],
   "source": [
    "split = int(X.shape[0]*.8)\n",
    "\n",
    "X = np.array(X)\n",
    "Y = np.array(Y)\n",
    "\n",
    "XTrain = X[:split,:]\n",
    "YTrain = Y[:split]\n",
    "\n",
    "XTest = X[split:,:]\n",
    "YTest = Y[split:]\n",
    "\n",
    "print(XTrain.shape,YTrain.shape)\n",
    "print(XTest.shape,YTest.shape)\n"
   ]
  },
  {
   "cell_type": "markdown",
   "metadata": {},
   "source": [
    "### Training MLP model"
   ]
  },
  {
   "cell_type": "code",
   "execution_count": 91,
   "metadata": {},
   "outputs": [],
   "source": [
    "class NeuralNetwork:\n",
    "    \n",
    "    def __init__(self,inputSize,layers,outputSize):\n",
    "        np.random.seed(0)\n",
    "        \n",
    "        model = {}\n",
    "        \n",
    "        model['W1'] = np.random.randn(inputSize,layers[0])\n",
    "        model['b1'] = np.zeros((1,layers[0]))\n",
    "        \n",
    "        model['W2'] = np.random.randn(layers[0],layers[1])\n",
    "        model['b2'] = np.zeros((1,layers[1]))\n",
    "        \n",
    "        model['W3'] = np.random.randn(layers[1],outputSize)\n",
    "        model['b3'] = np.zeros((1,outputSize))\n",
    "        \n",
    "        self.model = model\n",
    "        self.activations = None\n",
    "    \n",
    "    def forward(self,x):\n",
    "        \n",
    "        w1,w2,w3 = self.model['W1'],self.model['W2'],self.model['W3']\n",
    "        b1,b2,b3 = self.model['b1'],self.model['b2'],self.model['b3']\n",
    "        \n",
    "        z1 = np.dot(x,w1) + b1\n",
    "        a1 = np.tanh(z1)\n",
    "        \n",
    "        z2 = np.dot(a1,w2) + b2\n",
    "        a2 = np.tanh(z2)\n",
    "        \n",
    "        z3 = np.dot(a2,w3) + b3\n",
    "        yPred = softmax(z3)\n",
    "        \n",
    "        self.activations = (a1,a2,yPred) \n",
    "        return yPred\n",
    "    \n",
    "    def backword(self,x,y,learningRate = 0.0001):\n",
    "        \n",
    "        w1,w2,w3 = self.model['W1'],self.model['W2'],self.model['W3']\n",
    "        b1,b2,b3 = self.model['b1'],self.model['b2'],self.model['b3']\n",
    "        m = x.shape[0]\n",
    "        \n",
    "        a1,a2,yPred = self.activations\n",
    "        \n",
    "        delta3 = yPred - y\n",
    "        dw3 = np.dot(a2.T,delta3)\n",
    "        db3 = np.sum(delta3,axis = 0)\n",
    "        \n",
    "        delta2 = (1 - np.square(a2))*np.dot(delta3,w3.T)\n",
    "        dw2 = np.dot(a1.T,delta2)\n",
    "        db2 = np.sum(delta2,axis = 0)\n",
    "        \n",
    "        delta1 = (1 - np.square(a1))*np.dot(delta2,w2.T)\n",
    "        dw1 = np.dot(x.T,delta1)\n",
    "        db1 = np.sum(delta1,axis = 0)\n",
    "        \n",
    "        #Updating parameters using Gradient Descent\n",
    "        self.model['W1'] -= learningRate*dw1\n",
    "        self.model['b1'] -= learningRate*db1\n",
    "        \n",
    "        self.model['W2'] -= learningRate*dw2\n",
    "        self.model['b2'] -= learningRate*db2\n",
    "        \n",
    "        self.model['W3'] -= learningRate*dw3\n",
    "        self.model['b3'] -= learningRate*db3\n",
    "        \n",
    "    def predict(self,x):\n",
    "        yOut = self.forward(x)\n",
    "        return np.argmax(yOut,axis = 1)\n",
    "    \n",
    "    def summary(self):\n",
    "        w1,w2,w3 = self.model['W1'],self.model['W2'],self.model['W3']\n",
    "        a1,a2,yPred = self.activations\n",
    "        \n",
    "        print('W1 ',W1.shape)\n",
    "        print('A1',a1.shape)\n",
    "        print('W2 ',W2.shape)\n",
    "        print('A2',a2.shape)\n",
    "        print('W3 ',W3.shape)\n",
    "        print('YPred',yPred.shape) \n",
    "\n",
    "def softmax(a):\n",
    "    exA = np.exp(a)\n",
    "    ans = exA/np.sum(exA,axis = 1,keepdims=True)\n",
    "    return ans"
   ]
  },
  {
   "cell_type": "code",
   "execution_count": 92,
   "metadata": {},
   "outputs": [],
   "source": [
    "def loss(yOneHot,p):\n",
    "    l = -np.mean(yOneHot*np.log(p))\n",
    "    return l\n",
    "\n",
    "def oneHot(y,classes):\n",
    "    m = y.shape[0]\n",
    "    yOH = np.zeros((m,classes))\n",
    "    yOH[np.arange(m),y] = 1\n",
    "    return yOH"
   ]
  },
  {
   "cell_type": "code",
   "execution_count": 109,
   "metadata": {},
   "outputs": [],
   "source": [
    "def train(X,Y,model,epochs,learningRate,logs = True):\n",
    "    trainingLoss = []\n",
    "    \n",
    "    nOfClasses = len(np.unique(Y))\n",
    "    \n",
    "    yOH = oneHot(Y,nOfClasses)\n",
    "    \n",
    "    for i in range(epochs):\n",
    "        yPred = model.forward(X)\n",
    "        l = loss(yOH,yPred)\n",
    "        trainingLoss.append(l)\n",
    "        model.backword(X,yOH,learningRate)\n",
    "        if(logs and i%50 == 0):\n",
    "            print(\"Epoch %d loss is %.4f\"%(i,l))\n",
    "        \n",
    "    return trainingLoss"
   ]
  },
  {
   "cell_type": "code",
   "execution_count": 114,
   "metadata": {},
   "outputs": [],
   "source": [
    "model = NeuralNetwork(inputSize = 4800,layers=[100,50],outputSize = 3)"
   ]
  },
  {
   "cell_type": "code",
   "execution_count": 115,
   "metadata": {},
   "outputs": [
    {
     "name": "stdout",
     "output_type": "stream",
     "text": [
      "(353, 4800)\n",
      "(89, 4800)\n"
     ]
    }
   ],
   "source": [
    "XTrain = XTrain.reshape(XTrain.shape[0],-1)\n",
    "print(XTrain.shape)\n",
    "\n",
    "XTest = XTest.reshape(XTest.shape[0],-1)\n",
    "print(XTest.shape)"
   ]
  },
  {
   "cell_type": "code",
   "execution_count": 116,
   "metadata": {
    "scrolled": true
   },
   "outputs": [
    {
     "name": "stdout",
     "output_type": "stream",
     "text": [
      "Epoch 0 loss is 3.2316\n",
      "Epoch 50 loss is 0.2902\n",
      "Epoch 100 loss is 0.1460\n",
      "Epoch 150 loss is 0.1018\n",
      "Epoch 200 loss is 0.0796\n",
      "Epoch 250 loss is 0.0626\n",
      "Epoch 300 loss is 0.0528\n",
      "Epoch 350 loss is 0.0457\n",
      "Epoch 400 loss is 0.0401\n",
      "Epoch 450 loss is 0.0357\n"
     ]
    }
   ],
   "source": [
    "loss = train(XTrain,YTrain,model,500,0.0002)"
   ]
  },
  {
   "cell_type": "code",
   "execution_count": 118,
   "metadata": {},
   "outputs": [
    {
     "data": {
      "image/png": "[encoded data removed]",
      "text/plain": [
       "<Figure size 432x288 with 1 Axes>"
      ]
     },
     "metadata": {
      "needs_background": "light"
     },
     "output_type": "display_data"
    }
   ],
   "source": [
    "plt.title(\"Training Loss Vs Loss\")\n",
    "plt.plot(loss)\n",
    "plt.show()"
   ]
  },
  {
   "cell_type": "markdown",
   "metadata": {},
   "source": [
    "### Accuracy & Confusion Matrix (tested on small part of dataset)"
   ]
  },
  {
   "cell_type": "code",
   "execution_count": 68,
   "metadata": {},
   "outputs": [],
   "source": [
    "def getAccuracy(X,Y,model):\n",
    "    outputs = model.predict(X)\n",
    "    acc = np.sum(outputs==Y)/Y.shape[0]\n",
    "    return acc"
   ]
  },
  {
   "cell_type": "code",
   "execution_count": 130,
   "metadata": {},
   "outputs": [
    {
     "name": "stdout",
     "output_type": "stream",
     "text": [
      "Training Accuracy 0.9802\n",
      "Test Accuracy 0.5618\n"
     ]
    }
   ],
   "source": [
    "print(\"Training Accuracy %.4f\"%getAccuracy(XTrain,YTrain,model))\n",
    "print(\"Test Accuracy %.4f\"%getAccuracy(XTest,YTest,model))"
   ]
  },
  {
   "cell_type": "code",
   "execution_count": 79,
   "metadata": {},
   "outputs": [],
   "source": [
    "\"\"\"Use this method directly - \"\"\"\n",
    "import itertools\n",
    "def plot_confusion_matrix(cm, classes,\n",
    "                          normalize=False,\n",
    "                          title='Confusion matrix',\n",
    "                          cmap=plt.cm.Blues):\n",
    "    \"\"\"\n",
    "    This function prints and plots the confusion matrix.\n",
    "    Normalization can be applied by setting `normalize=True`.\n",
    "    \"\"\"\n",
    "    if normalize:\n",
    "        cm = cm.astype('float') / cm.sum(axis=1)[:, np.newaxis]\n",
    "        print(\"Normalized confusion matrix\")\n",
    "    else:\n",
    "        print('Confusion matrix, without normalization')\n",
    "\n",
    "    print(cm)\n",
    "\n",
    "    plt.imshow(cm, interpolation='nearest', cmap=cmap)\n",
    "    plt.title(title)\n",
    "    plt.colorbar()\n",
    "    tick_marks = np.arange(len(classes))\n",
    "    plt.xticks(tick_marks, classes, rotation=45)\n",
    "    plt.yticks(tick_marks, classes)\n",
    "\n",
    "    fmt = '.2f' if normalize else 'd'\n",
    "    thresh = cm.max() / 2.\n",
    "    for i, j in itertools.product(range(cm.shape[0]), range(cm.shape[1])):\n",
    "        plt.text(j, i, format(cm[i, j], fmt),\n",
    "                 horizontalalignment=\"center\",\n",
    "                 color=\"white\" if cm[i, j] > thresh else \"black\")\n",
    "\n",
    "    plt.ylabel('True label')\n",
    "    plt.xlabel('Predicted label')\n",
    "    plt.tight_layout()"
   ]
  },
  {
   "cell_type": "markdown",
   "metadata": {},
   "source": [
    "### Predicting and calculating Accuracy"
   ]
  },
  {
   "cell_type": "code",
   "execution_count": 142,
   "metadata": {},
   "outputs": [],
   "source": [
    "outputsTrain = model.predict(XTrain)\n",
    "cnfTrain = confusion_matrix(outputsTrain,YTrain)"
   ]
  },
  {
   "cell_type": "code",
   "execution_count": 146,
   "metadata": {},
   "outputs": [
    {
     "name": "stdout",
     "output_type": "stream",
     "text": [
      "Confusion matrix, without normalization\n",
      "[[160   1   3]\n",
      " [  0 131   2]\n",
      " [  1   0  55]]\n"
     ]
    },
    {
     "data": {
      "image/png": "[encoded data removed]",
      "text/plain": [
       "<Figure size 432x288 with 2 Axes>"
      ]
     },
     "metadata": {
      "needs_background": "light"
     },
     "output_type": "display_data"
    }
   ],
   "source": [
    "plot_confusion_matrix(cnfTrain,classes=[\"Pikachu\",\"Bulbasaur\",\"Meowth\"],title=\"Confusion Matrix Train\")"
   ]
  },
  {
   "cell_type": "code",
   "execution_count": 150,
   "metadata": {},
   "outputs": [
    {
     "name": "stdout",
     "output_type": "stream",
     "text": [
      "              precision    recall  f1-score   support\n",
      "\n",
      "           0       0.99      0.98      0.98       164\n",
      "           1       0.99      0.98      0.99       133\n",
      "           2       0.92      0.98      0.95        56\n",
      "\n",
      "   micro avg       0.98      0.98      0.98       353\n",
      "   macro avg       0.97      0.98      0.97       353\n",
      "weighted avg       0.98      0.98      0.98       353\n",
      "\n"
     ]
    }
   ],
   "source": [
    "print(classification_report(outputsTrain,YTrain))"
   ]
  },
  {
   "cell_type": "markdown",
   "metadata": {},
   "source": [
    "#### Confusion Matrix for Test Data"
   ]
  },
  {
   "cell_type": "code",
   "execution_count": 148,
   "metadata": {},
   "outputs": [],
   "source": [
    "outputsTest = model.predict(XTest)\n",
    "cnfTest = confusion_matrix(outputsTest,YTest)"
   ]
  },
  {
   "cell_type": "code",
   "execution_count": 149,
   "metadata": {},
   "outputs": [
    {
     "name": "stdout",
     "output_type": "stream",
     "text": [
      "Confusion matrix, without normalization\n",
      "[[21  7  5]\n",
      " [10 28  4]\n",
      " [ 7  6  1]]\n"
     ]
    },
    {
     "data": {
      "image/png": "[encoded data removed]",
      "text/plain": [
       "<Figure size 432x288 with 2 Axes>"
      ]
     },
     "metadata": {
      "needs_background": "light"
     },
     "output_type": "display_data"
    }
   ],
   "source": [
    "plot_confusion_matrix(cnfTest,classes=[\"Pikachu\",\"Bulbasaur\",\"Meowth\"],title=\"Confusion Matrix Test\")"
   ]
  },
  {
   "cell_type": "code",
   "execution_count": 151,
   "metadata": {},
   "outputs": [
    {
     "name": "stdout",
     "output_type": "stream",
     "text": [
      "              precision    recall  f1-score   support\n",
      "\n",
      "           0       0.55      0.64      0.59        33\n",
      "           1       0.68      0.67      0.67        42\n",
      "           2       0.10      0.07      0.08        14\n",
      "\n",
      "   micro avg       0.56      0.56      0.56        89\n",
      "   macro avg       0.45      0.46      0.45        89\n",
      "weighted avg       0.54      0.56      0.55        89\n",
      "\n"
     ]
    }
   ],
   "source": [
    "print(classification_report(outputsTest,YTest))"
   ]
  },
  {
   "cell_type": "markdown",
   "metadata": {},
   "source": [
    "#### F1-Score = 56%"
   ]
  },
  {
   "cell_type": "markdown",
   "metadata": {},
   "source": [
    "### Visualise Misclassifications"
   ]
  },
  {
   "cell_type": "code",
   "execution_count": 152,
   "metadata": {},
   "outputs": [
    {
     "data": {
      "image/png": "[encoded data removed]",
      "text/plain": [
       "<Figure size 432x288 with 1 Axes>"
      ]
     },
     "metadata": {
      "needs_background": "light"
     },
     "output_type": "display_data"
    },
    {
     "name": "stdout",
     "output_type": "stream",
     "text": [
      "Prediction =  51 Bulbasaur\n"
     ]
    },
    {
     "data": {
      "image/png": "[encoded data removed]",
      "text/plain": [
       "<Figure size 432x288 with 1 Axes>"
      ]
     },
     "metadata": {
      "needs_background": "light"
     },
     "output_type": "display_data"
    },
    {
     "name": "stdout",
     "output_type": "stream",
     "text": [
      "Prediction =  171 Pikachu\n"
     ]
    },
    {
     "data": {
      "image/png": "[encoded data removed]",
      "text/plain": [
       "<Figure size 432x288 with 1 Axes>"
      ]
     },
     "metadata": {
      "needs_background": "light"
     },
     "output_type": "display_data"
    },
    {
     "name": "stdout",
     "output_type": "stream",
     "text": [
      "Prediction =  176 Meowth\n"
     ]
    },
    {
     "data": {
      "image/png": "[encoded data removed]",
      "text/plain": [
       "<Figure size 432x288 with 1 Axes>"
      ]
     },
     "metadata": {
      "needs_background": "light"
     },
     "output_type": "display_data"
    },
    {
     "name": "stdout",
     "output_type": "stream",
     "text": [
      "Prediction =  199 Pikachu\n"
     ]
    },
    {
     "data": {
      "image/png": "[encoded data removed]",
      "text/plain": [
       "<Figure size 432x288 with 1 Axes>"
      ]
     },
     "metadata": {
      "needs_background": "light"
     },
     "output_type": "display_data"
    },
    {
     "name": "stdout",
     "output_type": "stream",
     "text": [
      "Prediction =  263 Pikachu\n"
     ]
    },
    {
     "data": {
      "image/png": "[encoded data removed]",
      "text/plain": [
       "<Figure size 432x288 with 1 Axes>"
      ]
     },
     "metadata": {
      "needs_background": "light"
     },
     "output_type": "display_data"
    },
    {
     "name": "stdout",
     "output_type": "stream",
     "text": [
      "Prediction =  310 Pikachu\n"
     ]
    },
    {
     "data": {
      "image/png": "[encoded data removed]",
      "text/plain": [
       "<Figure size 432x288 with 1 Axes>"
      ]
     },
     "metadata": {
      "needs_background": "light"
     },
     "output_type": "display_data"
    },
    {
     "name": "stdout",
     "output_type": "stream",
     "text": [
      "Prediction =  351 Bulbasaur\n"
     ]
    }
   ],
   "source": [
    "for i in range(YTrain.shape[0]):\n",
    "    if YTrain[i] != outputsTrain[i]:\n",
    "        drawImg(XTrain[i].reshape(40,40,3),YTrain[i])\n",
    "        print(\"Prediction =  %d %s\"%(i,label2Pokemon[outputsTrain[i]]))"
   ]
  },
  {
   "cell_type": "markdown",
   "metadata": {},
   "source": [
    "### Improving Accuracy and avoiding misclassifications by using CNN (for whole dataset)"
   ]
  },
  {
   "cell_type": "code",
   "execution_count": 115,
   "metadata": {},
   "outputs": [
    {
     "name": "stdout",
     "output_type": "stream",
     "text": [
      "(8096, 40, 40, 3) (8096,)\n",
      "(2024, 40, 40, 3) (2024,)\n"
     ]
    }
   ],
   "source": [
    "print(XTrain.shape,YTrain.shape)\n",
    "print(XTest.shape,YTest.shape)"
   ]
  },
  {
   "cell_type": "code",
   "execution_count": 116,
   "metadata": {},
   "outputs": [],
   "source": [
    "YTrainNew = to_categorical(YTrain)\n",
    "YTestNew = to_categorical(YTest)"
   ]
  },
  {
   "cell_type": "code",
   "execution_count": 117,
   "metadata": {},
   "outputs": [
    {
     "name": "stdout",
     "output_type": "stream",
     "text": [
      "(8096, 151) (2024, 151)\n"
     ]
    }
   ],
   "source": [
    "print(YTrainNew.shape,YTestNew.shape)"
   ]
  },
  {
   "cell_type": "markdown",
   "metadata": {},
   "source": [
    "### Training CNN Model"
   ]
  },
  {
   "cell_type": "code",
   "execution_count": 139,
   "metadata": {},
   "outputs": [
    {
     "name": "stdout",
     "output_type": "stream",
     "text": [
      "_________________________________________________________________\n",
      "Layer (type)                 Output Shape              Param #   \n",
      "=================================================================\n",
      "conv2d_24 (Conv2D)           (None, 38, 38, 64)        1792      \n",
      "_________________________________________________________________\n",
      "max_pooling2d_18 (MaxPooling (None, 19, 19, 64)        0         \n",
      "_________________________________________________________________\n",
      "conv2d_25 (Conv2D)           (None, 17, 17, 128)       73856     \n",
      "_________________________________________________________________\n",
      "max_pooling2d_19 (MaxPooling (None, 8, 8, 128)         0         \n",
      "_________________________________________________________________\n",
      "conv2d_26 (Conv2D)           (None, 6, 6, 256)         295168    \n",
      "_________________________________________________________________\n",
      "max_pooling2d_20 (MaxPooling (None, 3, 3, 256)         0         \n",
      "_________________________________________________________________\n",
      "dropout_8 (Dropout)          (None, 3, 3, 256)         0         \n",
      "_________________________________________________________________\n",
      "flatten_8 (Flatten)          (None, 2304)              0         \n",
      "_________________________________________________________________\n",
      "dense_18 (Dense)             (None, 512)               1180160   \n",
      "_________________________________________________________________\n",
      "dense_19 (Dense)             (None, 256)               131328    \n",
      "_________________________________________________________________\n",
      "dense_20 (Dense)             (None, 151)               38807     \n",
      "=================================================================\n",
      "Total params: 1,721,111\n",
      "Trainable params: 1,721,111\n",
      "Non-trainable params: 0\n",
      "_________________________________________________________________\n"
     ]
    }
   ],
   "source": [
    "#early stopping is used to prevent overfitting i.e trainig is stopped as soon as we get the best accuracy or least loss\n",
    "earlyStopping = EarlyStopping(min_delta = 0.001,monitor='val_acc', patience = 5)\n",
    "callback = [earlyStopping]\n",
    "\n",
    "#checkpoint to store the best fit model\n",
    "checkpoint = ModelCheckpoint(\"best_model.h5\",monitor='val_loss',verbose=True,save_best_only=True)\n",
    "\n",
    "modelCNN = Sequential()\n",
    "modelCNN.add(Conv2D(64,(3,3),activation='relu',input_shape=(40,40,3)))\n",
    "modelCNN.add(MaxPool2D((2,2)))\n",
    "modelCNN.add(Conv2D(128,(3,3),activation='relu'))\n",
    "modelCNN.add(MaxPool2D((2,2)))\n",
    "modelCNN.add(Conv2D(256,(3,3),activation='relu'))\n",
    "modelCNN.add(MaxPool2D((2,2)))\n",
    "modelCNN.add(Dropout(0.4))\n",
    "modelCNN.add(Flatten())\n",
    "modelCNN.add(Dense(512,activation='relu'))\n",
    "modelCNN.add(Dense(256,activation='relu'))\n",
    "modelCNN.add(Dense(151,activation='softmax'))\n",
    "modelCNN.summary()"
   ]
  },
  {
   "cell_type": "code",
   "execution_count": 140,
   "metadata": {},
   "outputs": [],
   "source": [
    "modelCNN.compile(optimizer='adam',loss='categorical_crossentropy',metrics=['acc'])"
   ]
  },
  {
   "cell_type": "code",
   "execution_count": 141,
   "metadata": {
    "scrolled": false
   },
   "outputs": [
    {
     "name": "stdout",
     "output_type": "stream",
     "text": [
      "Train on 6476 samples, validate on 1620 samples\n",
      "Epoch 1/100\n",
      "6476/6476 [==============================] - 79s 12ms/step - loss: 4.8816 - acc: 0.0290 - val_loss: 4.6513 - val_acc: 0.0420\n",
      "\n",
      "Epoch 00001: val_loss improved from inf to 4.65126, saving model to best_model.h5\n",
      "Epoch 2/100\n",
      "6476/6476 [==============================] - 77s 12ms/step - loss: 4.5448 - acc: 0.0593 - val_loss: 4.4042 - val_acc: 0.0778\n",
      "\n",
      "Epoch 00002: val_loss improved from 4.65126 to 4.40416, saving model to best_model.h5\n",
      "Epoch 3/100\n",
      "6476/6476 [==============================] - 77s 12ms/step - loss: 4.1546 - acc: 0.1028 - val_loss: 3.9831 - val_acc: 0.1198\n",
      "\n",
      "Epoch 00003: val_loss improved from 4.40416 to 3.98308, saving model to best_model.h5\n",
      "Epoch 4/100\n",
      "6476/6476 [==============================] - 76s 12ms/step - loss: 3.8155 - acc: 0.1397 - val_loss: 3.7679 - val_acc: 0.1617\n",
      "\n",
      "Epoch 00004: val_loss improved from 3.98308 to 3.76787, saving model to best_model.h5\n",
      "Epoch 5/100\n",
      "6476/6476 [==============================] - 78s 12ms/step - loss: 3.5552 - acc: 0.1728 - val_loss: 3.5365 - val_acc: 0.2037\n",
      "\n",
      "Epoch 00005: val_loss improved from 3.76787 to 3.53652, saving model to best_model.h5\n",
      "Epoch 6/100\n",
      "6476/6476 [==============================] - 79s 12ms/step - loss: 3.3016 - acc: 0.2148 - val_loss: 3.4283 - val_acc: 0.2185\n",
      "\n",
      "Epoch 00006: val_loss improved from 3.53652 to 3.42828, saving model to best_model.h5\n",
      "Epoch 7/100\n",
      "6476/6476 [==============================] - 79s 12ms/step - loss: 3.0942 - acc: 0.2503 - val_loss: 3.3223 - val_acc: 0.2389\n",
      "\n",
      "Epoch 00007: val_loss improved from 3.42828 to 3.32235, saving model to best_model.h5\n",
      "Epoch 8/100\n",
      "6476/6476 [==============================] - 75s 12ms/step - loss: 2.8217 - acc: 0.2991 - val_loss: 3.3713 - val_acc: 0.2321\n",
      "\n",
      "Epoch 00008: val_loss did not improve from 3.32235\n",
      "Epoch 9/100\n",
      "6476/6476 [==============================] - 75s 12ms/step - loss: 2.6033 - acc: 0.3405 - val_loss: 3.2329 - val_acc: 0.2685\n",
      "\n",
      "Epoch 00009: val_loss improved from 3.32235 to 3.23288, saving model to best_model.h5\n",
      "Epoch 10/100\n",
      "6476/6476 [==============================] - 75s 12ms/step - loss: 2.4093 - acc: 0.3806 - val_loss: 3.2110 - val_acc: 0.2753\n",
      "\n",
      "Epoch 00010: val_loss improved from 3.23288 to 3.21099, saving model to best_model.h5\n",
      "Epoch 11/100\n",
      "6476/6476 [==============================] - 75s 12ms/step - loss: 2.1669 - acc: 0.4302 - val_loss: 3.2792 - val_acc: 0.2889\n",
      "\n",
      "Epoch 00011: val_loss did not improve from 3.21099\n",
      "Epoch 12/100\n",
      "6476/6476 [==============================] - 75s 12ms/step - loss: 1.9497 - acc: 0.4793 - val_loss: 3.4107 - val_acc: 0.2852\n",
      "\n",
      "Epoch 00012: val_loss did not improve from 3.21099\n",
      "Epoch 13/100\n",
      "6476/6476 [==============================] - 76s 12ms/step - loss: 1.7737 - acc: 0.5244 - val_loss: 3.3784 - val_acc: 0.3185\n",
      "\n",
      "Epoch 00013: val_loss did not improve from 3.21099\n",
      "Epoch 14/100\n",
      "6476/6476 [==============================] - 77s 12ms/step - loss: 1.6089 - acc: 0.5511 - val_loss: 3.5569 - val_acc: 0.3019\n",
      "\n",
      "Epoch 00014: val_loss did not improve from 3.21099\n",
      "Epoch 15/100\n",
      "6476/6476 [==============================] - 75s 12ms/step - loss: 1.4497 - acc: 0.5984 - val_loss: 3.7837 - val_acc: 0.3056\n",
      "\n",
      "Epoch 00015: val_loss did not improve from 3.21099\n",
      "Epoch 16/100\n",
      "6476/6476 [==============================] - 76s 12ms/step - loss: 1.3134 - acc: 0.6319 - val_loss: 3.8013 - val_acc: 0.3080\n",
      "\n",
      "Epoch 00016: val_loss did not improve from 3.21099\n",
      "Epoch 17/100\n",
      "6476/6476 [==============================] - 76s 12ms/step - loss: 1.2018 - acc: 0.6575 - val_loss: 3.7748 - val_acc: 0.3296\n",
      "\n",
      "Epoch 00017: val_loss did not improve from 3.21099\n",
      "Epoch 18/100\n",
      "6476/6476 [==============================] - 76s 12ms/step - loss: 1.0802 - acc: 0.6889 - val_loss: 3.9843 - val_acc: 0.3247\n",
      "\n",
      "Epoch 00018: val_loss did not improve from 3.21099\n",
      "Epoch 19/100\n",
      "6476/6476 [==============================] - 76s 12ms/step - loss: 1.0295 - acc: 0.7029 - val_loss: 3.9887 - val_acc: 0.3253\n",
      "\n",
      "Epoch 00019: val_loss did not improve from 3.21099\n",
      "Epoch 20/100\n",
      "6476/6476 [==============================] - 76s 12ms/step - loss: 0.9241 - acc: 0.7273 - val_loss: 4.2866 - val_acc: 0.3074\n",
      "\n",
      "Epoch 00020: val_loss did not improve from 3.21099\n",
      "Epoch 21/100\n",
      "6476/6476 [==============================] - 77s 12ms/step - loss: 0.8795 - acc: 0.7392 - val_loss: 4.2418 - val_acc: 0.3284\n",
      "\n",
      "Epoch 00021: val_loss did not improve from 3.21099\n",
      "Epoch 22/100\n",
      "6476/6476 [==============================] - 76s 12ms/step - loss: 0.7826 - acc: 0.7752 - val_loss: 4.3018 - val_acc: 0.3327\n",
      "\n",
      "Epoch 00022: val_loss did not improve from 3.21099\n",
      "Epoch 23/100\n",
      "6476/6476 [==============================] - 78s 12ms/step - loss: 0.7277 - acc: 0.7922 - val_loss: 4.4379 - val_acc: 0.3333\n",
      "\n",
      "Epoch 00023: val_loss did not improve from 3.21099\n",
      "Epoch 24/100\n",
      "6476/6476 [==============================] - 77s 12ms/step - loss: 0.7148 - acc: 0.7897 - val_loss: 4.2874 - val_acc: 0.3401\n",
      "\n",
      "Epoch 00024: val_loss did not improve from 3.21099\n",
      "Epoch 25/100\n",
      "6476/6476 [==============================] - 76s 12ms/step - loss: 0.6663 - acc: 0.8053 - val_loss: 4.5911 - val_acc: 0.3395\n",
      "\n",
      "Epoch 00025: val_loss did not improve from 3.21099\n",
      "Epoch 26/100\n",
      "6476/6476 [==============================] - 76s 12ms/step - loss: 0.6341 - acc: 0.8128 - val_loss: 4.6263 - val_acc: 0.3426\n",
      "\n",
      "Epoch 00026: val_loss did not improve from 3.21099\n",
      "Epoch 27/100\n",
      "6476/6476 [==============================] - 76s 12ms/step - loss: 0.5893 - acc: 0.8221 - val_loss: 4.6451 - val_acc: 0.3284\n",
      "\n",
      "Epoch 00027: val_loss did not improve from 3.21099\n",
      "Epoch 28/100\n",
      "6476/6476 [==============================] - 76s 12ms/step - loss: 0.5837 - acc: 0.8237 - val_loss: 4.7677 - val_acc: 0.3451\n",
      "\n",
      "Epoch 00028: val_loss did not improve from 3.21099\n",
      "Epoch 29/100\n",
      "6476/6476 [==============================] - 76s 12ms/step - loss: 0.5139 - acc: 0.8440 - val_loss: 5.0224 - val_acc: 0.3358\n",
      "\n",
      "Epoch 00029: val_loss did not improve from 3.21099\n",
      "Epoch 30/100\n",
      "6476/6476 [==============================] - 77s 12ms/step - loss: 0.4774 - acc: 0.8545 - val_loss: 5.1987 - val_acc: 0.3296\n",
      "\n",
      "Epoch 00030: val_loss did not improve from 3.21099\n",
      "Epoch 31/100\n",
      "6476/6476 [==============================] - 77s 12ms/step - loss: 0.5326 - acc: 0.8426 - val_loss: 5.0808 - val_acc: 0.3228\n",
      "\n",
      "Epoch 00031: val_loss did not improve from 3.21099\n",
      "Epoch 32/100\n",
      "6476/6476 [==============================] - 77s 12ms/step - loss: 0.4815 - acc: 0.8599 - val_loss: 5.0411 - val_acc: 0.3346\n",
      "\n",
      "Epoch 00032: val_loss did not improve from 3.21099\n",
      "Epoch 33/100\n",
      "6476/6476 [==============================] - 77s 12ms/step - loss: 0.4179 - acc: 0.8738 - val_loss: 5.2258 - val_acc: 0.3247\n",
      "\n",
      "Epoch 00033: val_loss did not improve from 3.21099\n"
     ]
    }
   ],
   "source": [
    "hist = modelCNN.fit(XTrain,YTrainNew,batch_size=32,epochs=100,shuffle=True,validation_split=0.2,callbacks=[checkpoint,earlyStopping])"
   ]
  },
  {
   "cell_type": "markdown",
   "metadata": {},
   "source": [
    "### Predicting & Evaluating"
   ]
  },
  {
   "cell_type": "code",
   "execution_count": 130,
   "metadata": {},
   "outputs": [],
   "source": [
    "def getAccuracyCNN(X,Y,model):\n",
    "    outputs = model.predict_classes(X)\n",
    "    acc = np.sum(outputs==Y)/Y.shape[0]\n",
    "    return acc"
   ]
  },
  {
   "cell_type": "markdown",
   "metadata": {},
   "source": [
    "##### With Overfitting"
   ]
  },
  {
   "cell_type": "code",
   "execution_count": 142,
   "metadata": {},
   "outputs": [
    {
     "name": "stdout",
     "output_type": "stream",
     "text": [
      "2024/2024 [==============================] - 4s 2ms/step\n",
      "[5.404731439507526, 0.299901185770751]\n",
      "8096/8096 [==============================] - 17s 2ms/step\n",
      "[1.1554239383298652, 0.8349802371541502]\n"
     ]
    }
   ],
   "source": [
    "#modelCNN.load_weights('best_model.h5')\n",
    "print(modelCNN.evaluate(XTest,YTestNew))\n",
    "print(modelCNN.evaluate(XTrain,YTrainNew))"
   ]
  },
  {
   "cell_type": "code",
   "execution_count": 143,
   "metadata": {},
   "outputs": [
    {
     "name": "stdout",
     "output_type": "stream",
     "text": [
      "Training Accuracy :  83.5 %\n",
      "Test Accuracy :  29.99 %\n"
     ]
    }
   ],
   "source": [
    "print(\"Training Accuracy : \", getAccuracyCNN(XTrain,YTrain,modelCNN).round(4)*100,'%')\n",
    "print(\"Test Accuracy : \" , getAccuracyCNN(XTest,YTest,modelCNN).round(4)*100,'%')"
   ]
  },
  {
   "cell_type": "markdown",
   "metadata": {},
   "source": [
    "#### WIthout Overfitting"
   ]
  },
  {
   "cell_type": "code",
   "execution_count": 147,
   "metadata": {},
   "outputs": [
    {
     "name": "stdout",
     "output_type": "stream",
     "text": [
      "2024/2024 [==============================] - 4s 2ms/step\n",
      "[3.280382455102069, 0.2618577075098814]\n",
      "8096/8096 [==============================] - 16s 2ms/step\n",
      "[2.1064830999600557, 0.4883893280632411]\n"
     ]
    }
   ],
   "source": [
    "modelCNN.load_weights('best_model.h5')\n",
    "print(modelCNN.evaluate(XTest,YTestNew))\n",
    "print(modelCNN.evaluate(XTrain,YTrainNew))"
   ]
  },
  {
   "cell_type": "code",
   "execution_count": 145,
   "metadata": {},
   "outputs": [
    {
     "name": "stdout",
     "output_type": "stream",
     "text": [
      "Training Accuracy :  48.84 %\n",
      "Test Accuracy :  26.19 %\n"
     ]
    }
   ],
   "source": [
    "print(\"Training Accuracy : \", getAccuracyCNN(XTrain,YTrain,modelCNN).round(4)*100,'%')\n",
    "print(\"Test Accuracy : \" , getAccuracyCNN(XTest,YTest,modelCNN).round(4)*100,'%')"
   ]
  },
  {
   "cell_type": "code",
   "execution_count": 148,
   "metadata": {},
   "outputs": [
    {
     "data": {
      "image/png": "[encoded data removed]",
      "text/plain": [
       "<Figure size 432x288 with 2 Axes>"
      ]
     },
     "metadata": {
      "needs_background": "light"
     },
     "output_type": "display_data"
    }
   ],
   "source": [
    "# Visualising Loss and Accuracy\n",
    "plt.subplot(1,3,1)\n",
    "plt.title('Loss')\n",
    "plt.xlabel('Epoch')\n",
    "plt.ylabel('Loss')\n",
    "plt.plot(hist.history['loss'])\n",
    "plt.plot(hist.history['val_loss'])\n",
    "plt.legend(['Train', 'Validation'])\n",
    "\n",
    "plt.subplot(1,3,3)\n",
    "plt.title('Accuracy')\n",
    "plt.xlabel('Epoch')\n",
    "plt.ylabel('Accuracy')\n",
    "plt.plot(hist.history['acc'])\n",
    "plt.plot(hist.history['val_acc'])\n",
    "plt.legend(['Train', 'Validation'])\n",
    "plt.show()"
   ]
  },
  {
   "cell_type": "code",
   "execution_count": 149,
   "metadata": {},
   "outputs": [],
   "source": [
    "predXTrain = modelCNN.predict_classes(XTrain)\n",
    "predXTest = modelCNN.predict_classes(XTest)"
   ]
  },
  {
   "cell_type": "code",
   "execution_count": 165,
   "metadata": {},
   "outputs": [
    {
     "name": "stdout",
     "output_type": "stream",
     "text": [
      "              precision    recall  f1-score   support\n",
      "\n",
      "           0       0.26      0.89      0.40         9\n",
      "           1       0.59      0.59      0.59        79\n",
      "           2       0.59      0.36      0.45        64\n",
      "           3       0.62      0.84      0.71        37\n",
      "           4       0.53      0.57      0.55        44\n",
      "           5       0.59      0.30      0.39        98\n",
      "           6       0.42      0.76      0.54        21\n",
      "           7       0.67      0.91      0.77        32\n",
      "           8       0.81      0.52      0.63        83\n",
      "           9       0.81      0.75      0.78       153\n",
      "          10       0.57      0.69      0.62        48\n",
      "          11       0.55      0.79      0.65        28\n",
      "          12       0.31      0.74      0.44        19\n",
      "          13       0.45      0.87      0.60        23\n",
      "          14       0.84      0.49      0.62       282\n",
      "          15       0.55      0.56      0.55        52\n",
      "          16       0.17      0.30      0.22        20\n",
      "          17       0.87      0.22      0.35       208\n",
      "          18       0.50      0.42      0.46        57\n",
      "          19       0.38      0.55      0.44        33\n",
      "          20       0.20      0.15      0.18        65\n",
      "          21       0.20      0.29      0.23        28\n",
      "          22       0.76      0.41      0.53        71\n",
      "          23       0.60      0.57      0.59        61\n",
      "          24       0.26      0.48      0.33        23\n",
      "          25       0.52      0.47      0.49        62\n",
      "          26       0.46      0.69      0.55        35\n",
      "          27       0.62      0.76      0.68        72\n",
      "          28       0.44      0.78      0.56        27\n",
      "          29       0.62      0.47      0.54        74\n",
      "          30       0.38      0.64      0.47        22\n",
      "          31       0.56      0.77      0.65        31\n",
      "          32       0.23      0.91      0.37        11\n",
      "          33       0.51      0.53      0.52        53\n",
      "          34       0.52      0.45      0.48        51\n",
      "          35       0.50      0.75      0.60        36\n",
      "          36       0.33      0.50      0.40        36\n",
      "          37       0.34      0.70      0.46        44\n",
      "          38       0.60      0.39      0.47        71\n",
      "          39       0.31      0.55      0.39        22\n",
      "          40       0.52      0.38      0.44        63\n",
      "          41       0.14      0.86      0.24         7\n",
      "          42       0.83      0.58      0.68        66\n",
      "          43       0.51      0.55      0.53        51\n",
      "          44       0.56      0.43      0.49        65\n",
      "          45       0.54      0.33      0.41        78\n",
      "          46       0.37      0.32      0.34        57\n",
      "          47       0.14      0.55      0.22        11\n",
      "          48       0.44      0.24      0.31        99\n",
      "          49       0.35      0.33      0.34        54\n",
      "          50       0.44      0.53      0.48        45\n",
      "          51       0.20      0.53      0.29        19\n",
      "          52       0.14      1.00      0.24         7\n",
      "          53       0.19      0.50      0.27        18\n",
      "          54       0.68      0.30      0.42       113\n",
      "          55       0.42      0.57      0.48        28\n",
      "          56       0.75      0.57      0.65        58\n",
      "          57       0.57      0.77      0.66        35\n",
      "          58       0.45      0.43      0.44        54\n",
      "          59       0.74      0.69      0.71        51\n",
      "          60       0.52      0.74      0.61        31\n",
      "          61       0.60      0.17      0.27       195\n",
      "          62       0.18      0.44      0.25        18\n",
      "          63       0.33      0.55      0.41        33\n",
      "          64       0.15      0.38      0.22        21\n",
      "          65       0.47      0.54      0.50        50\n",
      "          66       0.49      0.43      0.46        60\n",
      "          67       0.52      0.62      0.57        45\n",
      "          68       0.52      0.82      0.64        34\n",
      "          69       0.57      0.67      0.62        49\n",
      "          70       0.28      0.75      0.41        20\n",
      "          71       0.41      0.78      0.54        23\n",
      "          72       0.45      0.43      0.44        44\n",
      "          73       0.43      0.58      0.49        36\n",
      "          74       0.42      0.63      0.51        30\n",
      "          75       0.33      0.55      0.42        29\n",
      "          76       0.23      0.21      0.22        47\n",
      "          77       0.17      0.64      0.26        14\n",
      "          78       0.25      0.46      0.33        28\n",
      "          79       0.41      0.72      0.52        32\n",
      "          80       0.70      0.67      0.68        57\n",
      "          81       0.50      0.50      0.50        52\n",
      "          82       0.76      0.29      0.42       381\n",
      "          83       0.56      0.52      0.54        52\n",
      "          84       0.49      0.51      0.50        39\n",
      "          85       0.22      0.48      0.30        25\n",
      "          86       0.43      0.56      0.49        41\n",
      "          87       0.38      0.57      0.46        35\n",
      "          90       0.47      0.34      0.39        71\n",
      "          91       0.38      0.62      0.47        29\n",
      "          92       0.31      0.44      0.36        41\n",
      "          93       0.55      0.97      0.70        30\n",
      "          94       0.67      0.57      0.62        49\n",
      "          95       0.37      0.74      0.49        19\n",
      "          96       0.24      0.19      0.21        63\n",
      "          97       0.57      0.52      0.55        46\n",
      "          98       0.58      0.38      0.46        66\n",
      "          99       0.13      0.86      0.22         7\n",
      "         100       0.38      0.27      0.32        73\n",
      "         101       0.16      0.50      0.24        16\n",
      "         102       0.05      0.50      0.09         6\n",
      "         103       0.86      0.48      0.61       290\n",
      "         104       0.40      0.53      0.46        34\n",
      "         105       0.10      0.50      0.16         8\n",
      "         106       0.55      0.33      0.41        92\n",
      "         107       0.33      0.50      0.40        32\n",
      "         108       0.24      0.92      0.39        13\n",
      "         109       0.68      0.54      0.60        50\n",
      "         110       0.59      0.23      0.33       148\n",
      "         111       0.77      0.82      0.79       112\n",
      "         112       0.50      0.52      0.51        48\n",
      "         113       0.61      0.48      0.54        81\n",
      "         114       0.21      0.73      0.32        15\n",
      "         115       0.31      0.61      0.41        28\n",
      "         116       0.20      0.40      0.26        20\n",
      "         117       0.42      0.51      0.46        45\n",
      "         118       0.18      0.53      0.27        17\n",
      "         119       0.18      0.71      0.28        14\n",
      "         120       0.62      0.88      0.73        33\n",
      "         121       0.36      0.45      0.40        44\n",
      "         122       0.39      0.41      0.40        46\n",
      "         123       0.55      0.16      0.25       168\n",
      "         124       0.58      0.93      0.72        42\n",
      "         125       0.49      0.92      0.64        24\n",
      "         126       0.52      0.59      0.55        41\n",
      "         127       0.83      0.52      0.64        93\n",
      "         128       0.68      0.33      0.45       230\n",
      "         129       0.76      0.68      0.72       175\n",
      "         130       0.72      0.62      0.67        55\n",
      "         131       0.31      0.62      0.41        26\n",
      "         132       0.49      0.74      0.59        34\n",
      "         133       0.20      0.42      0.27        24\n",
      "         134       0.67      0.46      0.55        63\n",
      "         135       0.56      0.57      0.56        42\n",
      "         136       0.32      0.89      0.47        18\n",
      "         137       0.32      0.57      0.41        30\n",
      "         138       0.49      0.53      0.51        45\n",
      "         139       0.69      0.75      0.72        51\n",
      "         140       0.59      0.60      0.59        45\n",
      "         141       0.46      0.84      0.60        31\n",
      "         142       0.39      0.75      0.51        28\n",
      "         143       0.47      0.45      0.46        60\n",
      "         144       0.55      0.73      0.63        44\n",
      "         145       0.38      0.40      0.39        47\n",
      "         146       0.49      0.79      0.61        29\n",
      "         147       0.43      0.42      0.42        55\n",
      "         148       0.56      0.35      0.43        78\n",
      "         149       0.47      0.96      0.63        25\n",
      "         150       0.32      0.59      0.41        22\n",
      "\n",
      "   micro avg       0.49      0.49      0.49      8096\n",
      "   macro avg       0.46      0.57      0.47      8096\n",
      "weighted avg       0.57      0.49      0.49      8096\n",
      "\n"
     ]
    }
   ],
   "source": [
    "print(classification_report(predXTrain,YTrain))"
   ]
  },
  {
   "cell_type": "markdown",
   "metadata": {},
   "source": [
    "### Conclusion"
   ]
  },
  {
   "cell_type": "markdown",
   "metadata": {},
   "source": [
    "#### - F1-Score (Without Overfitting)\n",
    "        For Training Data = 49% for whole dataset and 94% for small part of dataset (for 3 pokemons)\n",
    "        For Testing Data = 26% for whole dataset and 89% for small part of dataset (for 3 pokemons)\n",
    "#### - F1-Score (With Overfitting)\n",
    "        For Training Data = 83.5% for whole dataset\n",
    "        For Testing Data = 30% for whole dataset"
   ]
  },
  {
   "cell_type": "code",
   "execution_count": null,
   "metadata": {},
   "outputs": [],
   "source": []
  },
  {
   "cell_type": "code",
   "execution_count": null,
   "metadata": {},
   "outputs": [],
   "source": []
  },
  {
   "cell_type": "code",
   "execution_count": null,
   "metadata": {},
   "outputs": [],
   "source": []
  },
  {
   "cell_type": "code",
   "execution_count": null,
   "metadata": {},
   "outputs": [],
   "source": []
  },
  {
   "cell_type": "code",
   "execution_count": null,
   "metadata": {},
   "outputs": [],
   "source": []
  },
  {
   "cell_type": "code",
   "execution_count": null,
   "metadata": {},
   "outputs": [],
   "source": []
  }
 ],
 "metadata": {
  "kernelspec": {
   "display_name": "Python 3",
   "language": "python",
   "name": "python3"
  },
  "language_info": {
   "codemirror_mode": {
    "name": "ipython",
    "version": 3
   },
   "file_extension": ".py",
   "mimetype": "text/x-python",
   "name": "python",
   "nbconvert_exporter": "python",
   "pygments_lexer": "ipython3",
   "version": "3.6.8"
  }
 },
 "nbformat": 4,
 "nbformat_minor": 2
}
